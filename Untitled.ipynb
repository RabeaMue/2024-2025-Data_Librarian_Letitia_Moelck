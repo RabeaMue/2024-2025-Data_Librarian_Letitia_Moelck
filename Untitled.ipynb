{
 "cells": [
  {
   "cell_type": "code",
   "execution_count": 1,
   "id": "256af028-b62f-460d-a467-990a043d44ab",
   "metadata": {},
   "outputs": [],
   "source": [
    "import pandas as pd"
   ]
  },
  {
   "cell_type": "code",
   "execution_count": 2,
   "id": "94a69788-db51-4d0b-a712-c00f7acd0285",
   "metadata": {},
   "outputs": [],
   "source": [
    "name = \"Lovelace\""
   ]
  },
  {
   "cell_type": "code",
   "execution_count": 3,
   "id": "56b03d3a-64e5-446f-9af8-8f58b3ffe66b",
   "metadata": {},
   "outputs": [],
   "source": [
    "first_name = \"Ada\""
   ]
  },
  {
   "cell_type": "code",
   "execution_count": 4,
   "id": "adc461ec-8c0d-4a18-9e75-a101fad78e15",
   "metadata": {},
   "outputs": [
    {
     "name": "stdout",
     "output_type": "stream",
     "text": [
      "Ada Lovelace\n"
     ]
    }
   ],
   "source": [
    "print(first_name, name)"
   ]
  },
  {
   "cell_type": "code",
   "execution_count": null,
   "id": "74c3471a-ef6c-4a0e-a398-df7783b9e0e5",
   "metadata": {},
   "outputs": [],
   "source": []
  }
 ],
 "metadata": {
  "kernelspec": {
   "display_name": "Python 3 (ipykernel)",
   "language": "python",
   "name": "python3"
  },
  "language_info": {
   "codemirror_mode": {
    "name": "ipython",
    "version": 3
   },
   "file_extension": ".py",
   "mimetype": "text/x-python",
   "name": "python",
   "nbconvert_exporter": "python",
   "pygments_lexer": "ipython3",
   "version": "3.10.12"
  }
 },
 "nbformat": 4,
 "nbformat_minor": 5
}
